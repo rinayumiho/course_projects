{
 "cells": [
  {
   "cell_type": "code",
   "execution_count": 1,
   "metadata": {},
   "outputs": [],
   "source": [
    "import numpy as np\n",
    "import codecs\n",
    "import os\n",
    "import glob\n",
    "from numpy import log"
   ]
  },
  {
   "cell_type": "code",
   "execution_count": 2,
   "metadata": {},
   "outputs": [],
   "source": [
    "# def loadfilee(rootpath, train_test, spam_ham):\n",
    "#     result = glob.glob(rootpath + train_test + \"/\" + spam_ham + \"/*.txt\")\n",
    "#     print('ls', len(result))\n",
    "#     return result"
   ]
  },
  {
   "cell_type": "code",
   "execution_count": 3,
   "metadata": {},
   "outputs": [],
   "source": [
    "#Load the datasets files and store them into a list\n",
    "def loadfile(rootpath, train_test, spam_ham):\n",
    "    result = os.listdir(rootpath + train_test + \"/\" + spam_ham + \"/\")\n",
    "    for i in range(len(result)):\n",
    "        result[i] = rootpath + train_test + \"/\" + spam_ham + \"/\" + result[i]\n",
    "    return result"
   ]
  },
  {
   "cell_type": "code",
   "execution_count": 4,
   "metadata": {},
   "outputs": [],
   "source": [
    "#Using the trainsets build the training models. Return a list contanins: 1).a dictionary with training words as keys and total number of words occurence as values.\n",
    "#2). Total number of words in the training files.\n",
    "def training(filelist):\n",
    "    train_dict = {}\n",
    "    # Step through all files in folder\n",
    "    for file in filelist:\n",
    "        # Read files, ignoring invalid\n",
    "        words = open(file, 'r', encoding='utf-8', errors='ignore').read().rstrip().split()\n",
    "        #Add number of occurences of each word as the values\n",
    "        for word in words:\n",
    "            if word in train_dict:\n",
    "                train_dict[word] += 1\n",
    "            else:\n",
    "                train_dict[word] = 1\n",
    "    total_num = 0\n",
    "    for x in train_dict:\n",
    "        total_num += train_dict[x]\n",
    "        \n",
    "    return [train_dict, total_num]"
   ]
  },
  {
   "cell_type": "code",
   "execution_count": 5,
   "metadata": {},
   "outputs": [],
   "source": [
    "#Using the training model built before to test the testset data. Return a list of logP for files in each dataset. \n",
    "def testing(filelist, model, p, total_num):\n",
    "    result = []\n",
    "    for file in filelist:\n",
    "        words = open(file, 'r', encoding='utf-8', errors='ignore').read().rstrip().split()\n",
    "        re = log(p)\n",
    "        for word in words:\n",
    "            #Considering some words appear in testset but not in trainset, add a Laplace smoothing term.\n",
    "            if word in model:\n",
    "                re += log((model[word] + 1) / (total_num + len(model.keys())))\n",
    "            else:\n",
    "                re += log(1 / (total_num + len(model.keys())))\n",
    "        result.append(re)\n",
    "    return result"
   ]
  },
  {
   "cell_type": "code",
   "execution_count": 6,
   "metadata": {},
   "outputs": [],
   "source": [
    "path = \"/Users/longchen/Desktop/hw2/hw2_datasets/dataset 1/\"\n",
    "train_spam_list = loadfile(path, 'train', 'spam')\n",
    "train_ham_list = loadfile(path, 'train', 'ham')"
   ]
  },
  {
   "cell_type": "code",
   "execution_count": 7,
   "metadata": {},
   "outputs": [],
   "source": [
    "#Compute the prior probability of spam and ham trainsets\n",
    "p_spam = len(train_spam_list) / (len(train_spam_list) + len(train_ham_list))\n",
    "p_ham = len(train_ham_list) / (len(train_spam_list) + len(train_ham_list))\n",
    "\n",
    "spam_weights = training(train_spam_list)\n",
    "ham_weights = training(train_ham_list)\n",
    "\n",
    "test_spam_list = loadfile(path, 'test', 'spam')\n",
    "test_ham_list = loadfile(path, 'test', 'ham')\n",
    "\n",
    "test_spam_spam = testing(test_spam_list, spam_weights[0], p_spam, spam_weights[1])\n",
    "test_spam_ham = testing(test_spam_list, ham_weights[0], p_ham, ham_weights[1])\n",
    "test_ham_spam = testing(test_ham_list, spam_weights[0], p_spam, spam_weights[1])\n",
    "test_ham_ham = testing(test_ham_list, ham_weights[0], p_ham, ham_weights[1])"
   ]
  },
  {
   "cell_type": "code",
   "execution_count": 8,
   "metadata": {},
   "outputs": [
    {
     "name": "stdout",
     "output_type": "stream",
     "text": [
      "0.9372384937238494\n"
     ]
    }
   ],
   "source": [
    "count = 0\n",
    "#Count all correct classifications when predict == groundtruth\n",
    "for i in range(len(test_spam_spam)):\n",
    "    prediction = ''\n",
    "    if test_spam_spam[i] > test_spam_ham[i]:\n",
    "        prediction = 'spam'\n",
    "    elif test_spam_spam[i] == test_spam_ham[i]:\n",
    "        if p_spam > p_ham:\n",
    "            prediction = 'spam'\n",
    "        else:\n",
    "            prediction = 'ham'\n",
    "    else:\n",
    "        prediction = 'ham'\n",
    "        \n",
    "    if prediction == 'spam':\n",
    "        count += 1\n",
    "        \n",
    "for i in range(len(test_ham_spam)):\n",
    "    prediction = ''\n",
    "    if test_ham_spam[i] > test_ham_ham[i]:\n",
    "        prediction = 'spam'\n",
    "    elif test_ham_spam[i] == test_ham_ham[i]:\n",
    "        if p_spam > p_ham:\n",
    "            prediction = 'spam'\n",
    "        else:\n",
    "            prediction = 'ham'\n",
    "    else:\n",
    "        prediction = 'ham'\n",
    "        \n",
    "    if prediction == 'ham':\n",
    "        count += 1\n",
    "        \n",
    "#compute the accuracy        \n",
    "print(count / (len(test_spam_list) + len(test_ham_list)))"
   ]
  }
 ],
 "metadata": {
  "kernelspec": {
   "display_name": "Python 3",
   "language": "python",
   "name": "python3"
  },
  "language_info": {
   "codemirror_mode": {
    "name": "ipython",
    "version": 3
   },
   "file_extension": ".py",
   "mimetype": "text/x-python",
   "name": "python",
   "nbconvert_exporter": "python",
   "pygments_lexer": "ipython3",
   "version": "3.7.0"
  }
 },
 "nbformat": 4,
 "nbformat_minor": 2
}