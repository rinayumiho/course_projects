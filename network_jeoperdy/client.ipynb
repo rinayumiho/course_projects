{
 "cells": [
  {
   "cell_type": "code",
   "execution_count": 1,
   "metadata": {},
   "outputs": [],
   "source": [
    "from socket import *\n",
    "from time import ctime\n",
    "import signal, os"
   ]
  },
  {
   "cell_type": "code",
   "execution_count": 2,
   "metadata": {},
   "outputs": [],
   "source": [
    "CM_SUBSCRIBE = 10\n",
    "CM_NEW_ROUND = 11\n",
    "CM_CATEGORY = 12\n",
    "CM_CATEGORY_RECV = 13\n",
    "CM_RING = 14\n",
    "CM_ANSWER = 15\n",
    "CM_ANSWER_SHOW = 16\n",
    "\n",
    "# MAJORSPLIT = \"::\"\n",
    "# MINORSPLIT = \";\"\n",
    "SPLIT = \"::\"\n",
    "\n",
    "SM_WELCOME = 10\n",
    "SM_NEW_GAME = 11\n",
    "SM_NEW_ROUND = 12\n",
    "SM_CATEGORY = 13\n",
    "SM_QUESTION = 14\n",
    "SM_RING_CLIENT = 15\n",
    "SM_ANSWER = 16\n",
    "\n",
    "JOINING_GAME = 0\n",
    "GAME_IN_PROGRESS = 1\n",
    "ROUND_IN_PROGRESS = 2\n",
    "CATEGORY_SELECTED = 3\n",
    "DISPLAY_QUESTION = 4\n",
    "WAIT_FOR_ANSWER = 5\n",
    "ANSWER_SHOW = 6\n",
    "\n",
    "PlayerId = -1\n",
    "PlayerName = \"\"\n",
    "timeout = 10\n",
    "PointsPerQues = -1\n",
    "CateNames = []\n",
    "PlayerState = JOINING_GAME\n"
   ]
  },
  {
   "cell_type": "code",
   "execution_count": 3,
   "metadata": {},
   "outputs": [],
   "source": [
    "# def writeMsg(RecvMsg, txt1, txt2):\n",
    "# #     msg = str(RecvMsg) + MAJORSPLIT + txt1 + MAJORSPLIT + txt2\n",
    "#     msg = str(RecvMsg) + SPLIT + txt1 + SPLIT + txt2\n"
   ]
  },
  {
   "cell_type": "code",
   "execution_count": 4,
   "metadata": {},
   "outputs": [],
   "source": [
    "import signal, os\n",
    "def readMsg(msg):\n",
    "    global PlayerId\n",
    "    global PlayerName\n",
    "    global PlayerState\n",
    "    global CateNames\n",
    "    global timeout\n",
    "    global PointsPerQues\n",
    "    field = msg.split(SPLIT)\n",
    "    RecvMsg = int(field[0])    \n",
    "    if RecvMsg == SM_WELCOME and PlayerState == JOINING_GAME:\n",
    "        print(\"Please enter your name:\")\n",
    "        PlayerName = input(\"Name: \")\n",
    "        PlayerState = GAME_IN_PROGRESS\n",
    "        msg = str(CM_SUBSCRIBE) + SPLIT + PlayerName + SPLIT + \"#\"\n",
    "    \n",
    "    if RecvMsg == SM_NEW_GAME and PlayerState == GAME_IN_PROGRESS:\n",
    "        NumOfPlayers = int(field[1])\n",
    "        PlayersNames = field[2].split()\n",
    "        NumOfCategories = int(field[3])\n",
    "        CateNames = field[4].split()\n",
    "        PointsPerQues = int(field[5])\n",
    "        timeout = int(field[6])\n",
    "        print(\"Hello, everyone! Are you ready? Game Start!\")\n",
    "        print(\"These are basic informations for our players:\")\n",
    "        print(\"**********\"*10)\n",
    "        print(\"There are %d players in the game:\" % NumOfPlayers)\n",
    "        for i, playername in enumerate(PlayersNames):\n",
    "            print(\"Player: %s, Id: %d\" % (playername, i+1))\n",
    "        print(\"%d categories:\" % NumOfCategories)\n",
    "        for i, categoryname in enumerate(CateNames):\n",
    "            print(\"Category number - %d: %s\" % (i, categoryname))\n",
    "        print(\"Each category has two questions and each question worth %d points\" % PointsPerQues)\n",
    "        print(\"You have %d seconds to ring the bell if you know the answer\" % timeout)\n",
    "        PlayerId = PlayersNames.index(PlayerName) + 1\n",
    "        PlayerState = ROUND_IN_PROGRESS\n",
    "        msg = str(CM_NEW_ROUND) + SPLIT + str(PlayerId) + SPLIT + \"#\"\n",
    "    if RecvMsg == SM_NEW_ROUND and PlayerState in (ROUND_IN_PROGRESS, ANSWER_SHOW):\n",
    "        ClientId = int(field[1])\n",
    "        print(\"Let's start a new round!\")\n",
    "        print(\"**********\"*10)\n",
    "        if ClientId == PlayerId:\n",
    "            print(\"Please select a category:\")\n",
    "            CateId = input(\"Category: \")\n",
    "            msg = str(CM_CATEGORY) + SPLIT + CateId + SPLIT + str(PlayerId)\n",
    "        else:\n",
    "            print(\"Wait for Player %d select\" % PlayerId)\n",
    "            print(\"----------\"*10)\n",
    "            msg = str(CM_CATEGORY) + SPLIT + \"-1\" + SPLIT + str(PlayerId)\n",
    "        PlayerState = CATEGORY_SELECTED\n",
    "    if RecvMsg == SM_CATEGORY and PlayerState == CATEGORY_SELECTED:\n",
    "        CateId = int(field[1])\n",
    "        CateName = CateNames[CateId]\n",
    "        print(\"In this round, the selected category is: %s\" % CateName)\n",
    "        PlayerState = DISPLAY_QUESTION\n",
    "        msg = str(CM_CATEGORY_RECV) + SPLIT + str(CateId) + SPLIT + \"#\"\n",
    "    if RecvMsg == SM_QUESTION and PlayerState == DISPLAY_QUESTION:\n",
    "        question = field[1]\n",
    "        print(\"The question is: %s\" % question)\n",
    "        print(\"(If you know the answer, press the ring button quickly\\n and remember you have 10 miliseconds to ring the bell).\")\n",
    "        print(\"Timer start!\")\n",
    "        print(\"**********\"*10)\n",
    "        class TimeoutError(Exception):\n",
    "            pass\n",
    "        def interrupted(signum, frame):\n",
    "            raise TimeoutError\n",
    "        signal.signal(signal.SIGALRM, interrupted)\n",
    "        signal.alarm(3)\n",
    "        try:\n",
    "            answer = input(\"Please ring the bell(enter your ID) if you know the answer: \")\n",
    "        except TimeoutError:\n",
    "            print(\"\\ntimeout!\")\n",
    "            answer = \"\"\n",
    "        signal.alarm(0)  # 读到输入的话重置信号\n",
    "        if answer != \"\":\n",
    "            PlayerState = DISPLAY_QUESTION\n",
    "            msg = str(CM_RING) + SPLIT + answer + SPLIT + \"#\"\n",
    "        else:\n",
    "            PlayerState = WAIT_FOR_ANSWER\n",
    "            msg = str(CM_RING) + SPLIT + \"#\" + SPLIT + \"#\"\n",
    "    if RecvMsg == SM_RING_CLIENT and PlayerState == DISPLAY_QUESTION:\n",
    "        RingPlayerId = int(field[1])\n",
    "        if PlayerId == RingPlayerId:\n",
    "            print(\"**********\"*6)\n",
    "            print(\"Congratulations! player-%d get the chance to answer this question.\" % PlayerId)\n",
    "            print(\"**********\"*6)\n",
    "            answer = input(\"Please show your answer: (if you don't know the answer, please enter 'no')\")\n",
    "            PlayerState = ANSWER_SHOW\n",
    "            msg = str(CM_ANSWER) + SPLIT + answer + SPLIT + \"#\"\n",
    "        else:\n",
    "            print(\"**********\"*6)\n",
    "            print(\"Sorry, player %s ring the bell first and you need to wait, you cannot answer the question...\" % RingPlayerId)\n",
    "            PlayerState = ANSWER_SHOW\n",
    "            msg = str(CM_ANSWER) + SPLIT + \"#\" + SPLIT + \"#\"\n",
    "    if RecvMsg == SM_ANSWER and PlayerState == ANSWER_SHOW:\n",
    "        PlayerAnswer = field[1]\n",
    "        CorrAnswer = field[2]\n",
    "        print(\"Player's answer is: %s and the correct answer is: %s\" % (PlayerAnswer, CorrAnswer))\n",
    "        print(\"**********\"*6)\n",
    "        if PlayerAnswer == CorrAnswer:\n",
    "            print(\"Good job! Win %s points!\" % PointsPerQues)\n",
    "        else:\n",
    "            print(\"Sorry! Wrong answer!\")\n",
    "        PlayerState = ANSWER_SHOW\n",
    "        msg = str(CM_ANSWER_SHOW) + SPLIT + \"#\" + SPLIT + \"#\"\n",
    "    return msg\n",
    "       "
   ]
  },
  {
   "cell_type": "code",
   "execution_count": 5,
   "metadata": {},
   "outputs": [],
   "source": [
    "serverName = '127.0.0.1'\n",
    "serverPort = 33333\n",
    "clientSocket = socket(AF_INET, SOCK_STREAM)\n",
    "clientSocket.connect((serverName, serverPort))\n",
    "while True:\n",
    "    msg = clientSocket.recv(1024).decode()\n",
    "    outmsg = readMsg(msg)\n",
    "    clientSocket.send(outmsg.encode())\n",
    "clientSocket.close()"
   ]
  },
  {
   "cell_type": "code",
   "execution_count": 6,
   "metadata": {},
   "outputs": [
    {
     "name": "stdout",
     "output_type": "stream",
     "text": [
      "Please enter your name:\n",
      "Name: bbb\n",
      "***** 10::bbb::#\n",
      "______________________________________________________________________\n"
     ]
    }
   ],
   "source": [
    "# x = readMsg(\"10\")\n",
    "# print(\"*****\", x)\n",
    "# print(\"_\"*70)"
   ]
  },
  {
   "cell_type": "code",
   "execution_count": 7,
   "metadata": {},
   "outputs": [
    {
     "name": "stdout",
     "output_type": "stream",
     "text": [
      "Hello, everyone! Are you ready? Game Start!\n",
      "These are basic informations for our players:\n",
      "************************************************************\n",
      "There are 2 players in the game:\n",
      "Player: aaa, Id: 1\n",
      "Player: bbb, Id: 2\n",
      "2 categories:\n",
      "Category number - 0: math\n",
      "Category number - 1: cs\n",
      "Each category has two questions and each question worth 500 points\n",
      "You have 1000 seconds to ring the bell if you know the answer\n",
      "**** 11::2::#\n",
      "*** PlayerId 2\n",
      "______________________________________________________________________\n"
     ]
    }
   ],
   "source": [
    "# x = readMsg(\"11::2::aaa bbb::2::math cs::500::1000\")\n",
    "# print(\"****\", x)\n",
    "# print(\"*** PlayerId %d\" % PlayerId)\n",
    "# print(\"_\"*70)"
   ]
  },
  {
   "cell_type": "code",
   "execution_count": 8,
   "metadata": {},
   "outputs": [
    {
     "name": "stdout",
     "output_type": "stream",
     "text": [
      "Let's start a new round!\n",
      "************************************************************\n",
      "Wait for Player 2 select\n",
      "*** 12::#::2\n",
      "______________________________________________________________________\n"
     ]
    }
   ],
   "source": [
    "# x = readMsg(\"12::1\")\n",
    "# print(\"***\", x)\n",
    "# print(\"_\"*70)"
   ]
  },
  {
   "cell_type": "code",
   "execution_count": 9,
   "metadata": {},
   "outputs": [
    {
     "name": "stdout",
     "output_type": "stream",
     "text": [
      "In this round, the selected category is: cs\n",
      "*** 13::1::#\n",
      "______________________________________________________________________\n"
     ]
    }
   ],
   "source": [
    "# x = readMsg(\"13::1\")\n",
    "# print(\"***\", x)\n",
    "# print(\"_\"*70)"
   ]
  },
  {
   "cell_type": "code",
   "execution_count": 10,
   "metadata": {},
   "outputs": [
    {
     "name": "stdout",
     "output_type": "stream",
     "text": [
      "The question is: what is 1011?\n",
      "(If you know the answer, press the ring button quickly\n",
      " and remember you have 5 miliseconds to ring the bell).\n",
      "Timer start!\n",
      "************************************************************\n",
      "Please ring the bell(enter your ID) if you know the answer: 2\n",
      "*** 14::2::#\n",
      "______________________________________________________________________\n"
     ]
    }
   ],
   "source": [
    "# x = readMsg(\"14::what is 1011?\")\n",
    "# print(\"***\", x)\n",
    "# print(\"_\"*70)\n"
   ]
  },
  {
   "cell_type": "code",
   "execution_count": 11,
   "metadata": {},
   "outputs": [
    {
     "name": "stdout",
     "output_type": "stream",
     "text": [
      "Congratulations! player: 1 get the chance to answer this question.\n",
      "Please show your answer: 9\n",
      "*** 15::9::#\n",
      "______________________________________________________________________\n"
     ]
    }
   ],
   "source": [
    "# x = readMsg(\"15::1\")\n",
    "# print(\"***\", x)\n",
    "# print(\"_\"*70)"
   ]
  },
  {
   "cell_type": "code",
   "execution_count": 12,
   "metadata": {},
   "outputs": [
    {
     "name": "stdout",
     "output_type": "stream",
     "text": [
      "The player's answer is: 11 and the correct answer is: 9\n",
      "*** 16::#::#\n",
      "______________________________________________________________________\n"
     ]
    }
   ],
   "source": [
    "# x = readMsg(\"16::11::9\")\n",
    "# print(\"***\", x)\n",
    "# print(\"_\"*70)"
   ]
  },
  {
   "cell_type": "code",
   "execution_count": null,
   "metadata": {},
   "outputs": [],
   "source": []
  }
 ],
 "metadata": {
  "kernelspec": {
   "display_name": "Python 3",
   "language": "python",
   "name": "python3"
  },
  "language_info": {
   "codemirror_mode": {
    "name": "ipython",
    "version": 3
   },
   "file_extension": ".py",
   "mimetype": "text/x-python",
   "name": "python",
   "nbconvert_exporter": "python",
   "pygments_lexer": "ipython3",
   "version": "3.7.6"
  }
 },
 "nbformat": 4,
 "nbformat_minor": 4
}
